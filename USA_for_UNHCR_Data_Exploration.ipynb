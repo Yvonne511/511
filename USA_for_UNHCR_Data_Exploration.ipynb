{
  "nbformat": 4,
  "nbformat_minor": 0,
  "metadata": {
    "colab": {
      "provenance": [],
      "collapsed_sections": [],
      "include_colab_link": true
    },
    "kernelspec": {
      "name": "python3",
      "display_name": "Python 3"
    },
    "language_info": {
      "name": "python"
    }
  },
  "cells": [
    {
      "cell_type": "markdown",
      "metadata": {
        "id": "view-in-github",
        "colab_type": "text"
      },
      "source": [
        "<a href=\"https://colab.research.google.com/github/Yvonne511/511/blob/main/USA_for_UNHCR_Data_Exploration.ipynb\" target=\"_parent\"><img src=\"https://colab.research.google.com/assets/colab-badge.svg\" alt=\"Open In Colab\"/></a>"
      ]
    },
    {
      "cell_type": "code",
      "source": [
        "import os \n",
        "import pandas as pd\n",
        "import numpy as np\n",
        "import matplotlib.pyplot as plt\n",
        "import seaborn as sns\n",
        "pd.options.mode.chained_assignment = None\n",
        "\n",
        "from sklearn.model_selection import train_test_split \n",
        "from sklearn.preprocessing import OneHotEncoder \n",
        "from sklearn.tree import DecisionTreeClassifier\n",
        "from sklearn.neighbors import KNeighborsClassifier\n",
        "from sklearn.metrics import accuracy_score"
      ],
      "metadata": {
        "id": "k28ekEZxzneh"
      },
      "execution_count": null,
      "outputs": []
    },
    {
      "cell_type": "code",
      "source": [
        "from google.colab import drive\n",
        "drive.mount('/content/drive', force_remount=True)"
      ],
      "metadata": {
        "id": "OcPouxsv2dl8",
        "colab": {
          "base_uri": "https://localhost:8080/"
        },
        "outputId": "e9565d12-b5a4-4a75-a3e8-534cd88a1516"
      },
      "execution_count": null,
      "outputs": [
        {
          "output_type": "stream",
          "name": "stdout",
          "text": [
            "Mounted at /content/drive\n"
          ]
        }
      ]
    },
    {
      "cell_type": "markdown",
      "source": [
        "**Importing Donors Dataset**"
      ],
      "metadata": {
        "id": "78z2WKhB-bA7"
      }
    },
    {
      "cell_type": "code",
      "source": [
        "df = pd.read_csv('drive/MyDrive/unhcr/provided/data/USAforUNHCR_LeadGen_Contact.csv')"
      ],
      "metadata": {
        "id": "UI3QDVU1xeBp"
      },
      "execution_count": null,
      "outputs": []
    },
    {
      "cell_type": "code",
      "source": [
        "df.head()"
      ],
      "metadata": {
        "id": "oxpEwBI0zzxh",
        "colab": {
          "base_uri": "https://localhost:8080/",
          "height": 357
        },
        "outputId": "979a1e56-c6ca-4e9d-eeb1-a7e97a02bd8d"
      },
      "execution_count": null,
      "outputs": [
        {
          "output_type": "execute_result",
          "data": {
            "text/plain": [
              "                   id           accountid             createddate  \\\n",
              "0  0031K0000385UfTQAU  0011K00002THOH6QAP  2022-01-01 22:13:31+00   \n",
              "1  0031K0000385Ur0QAE  0011K00002THOSxQAP  2022-01-02 03:37:18+00   \n",
              "2  0031K0000385UvRQAU  0011K00002THOZ6QAP  2022-01-02 07:41:17+00   \n",
              "3  0031K0000385VY1QAM  0011K00002THPEKQA5  2022-01-02 17:13:39+00   \n",
              "4  0031K0000385WKhQAM  0011K00002THQ1zQAH  2022-01-03 02:48:07+00   \n",
              "\n",
              "  membership_type__c origin_source__c first_gift_date__c  \\\n",
              "0     Donor Prospect      2021_Yem_YT                NaN   \n",
              "1     Donor Prospect      2021_Afg_YT                NaN   \n",
              "2     Donor Prospect      2021_Yem_YT                NaN   \n",
              "3     Donor Prospect      2021_Afg_YT                NaN   \n",
              "4     Donor Prospect      2021_Afg_YT                NaN   \n",
              "\n",
              "   first_gift_amount__c mrc_date__c  mrc_amount__c  \\\n",
              "0                   NaN         NaN            NaN   \n",
              "1                   NaN         NaN            NaN   \n",
              "2                   NaN         NaN            NaN   \n",
              "3                   NaN         NaN            NaN   \n",
              "4                   NaN         NaN            NaN   \n",
              "\n",
              "   current_calendar_year_total_amount__c  \\\n",
              "0                                    NaN   \n",
              "1                                    NaN   \n",
              "2                                    NaN   \n",
              "3                                    NaN   \n",
              "4                                    NaN   \n",
              "\n",
              "   current_calendar_year_total_transactions__c  \\\n",
              "0                                          NaN   \n",
              "1                                          NaN   \n",
              "2                                          NaN   \n",
              "3                                          NaN   \n",
              "4                                          NaN   \n",
              "\n",
              "   previous_calendar_year_total_amount__c  \\\n",
              "0                                     NaN   \n",
              "1                                     NaN   \n",
              "2                                     NaN   \n",
              "3                                     NaN   \n",
              "4                                     NaN   \n",
              "\n",
              "   previous_calendar_year_total_transaction__c  total_amount__c  \\\n",
              "0                                          NaN              NaN   \n",
              "1                                          NaN              NaN   \n",
              "2                                          NaN              NaN   \n",
              "3                                          NaN              NaN   \n",
              "4                                          NaN              NaN   \n",
              "\n",
              "   total_transactions__c  email  phone  \n",
              "0                    NaN      1      1  \n",
              "1                    NaN      1      1  \n",
              "2                    NaN      1      1  \n",
              "3                    NaN      1      1  \n",
              "4                    NaN      1      1  "
            ],
            "text/html": [
              "\n",
              "  <div id=\"df-9f1e2b2f-9263-4dd5-89ca-1f9bde829cd4\">\n",
              "    <div class=\"colab-df-container\">\n",
              "      <div>\n",
              "<style scoped>\n",
              "    .dataframe tbody tr th:only-of-type {\n",
              "        vertical-align: middle;\n",
              "    }\n",
              "\n",
              "    .dataframe tbody tr th {\n",
              "        vertical-align: top;\n",
              "    }\n",
              "\n",
              "    .dataframe thead th {\n",
              "        text-align: right;\n",
              "    }\n",
              "</style>\n",
              "<table border=\"1\" class=\"dataframe\">\n",
              "  <thead>\n",
              "    <tr style=\"text-align: right;\">\n",
              "      <th></th>\n",
              "      <th>id</th>\n",
              "      <th>accountid</th>\n",
              "      <th>createddate</th>\n",
              "      <th>membership_type__c</th>\n",
              "      <th>origin_source__c</th>\n",
              "      <th>first_gift_date__c</th>\n",
              "      <th>first_gift_amount__c</th>\n",
              "      <th>mrc_date__c</th>\n",
              "      <th>mrc_amount__c</th>\n",
              "      <th>current_calendar_year_total_amount__c</th>\n",
              "      <th>current_calendar_year_total_transactions__c</th>\n",
              "      <th>previous_calendar_year_total_amount__c</th>\n",
              "      <th>previous_calendar_year_total_transaction__c</th>\n",
              "      <th>total_amount__c</th>\n",
              "      <th>total_transactions__c</th>\n",
              "      <th>email</th>\n",
              "      <th>phone</th>\n",
              "    </tr>\n",
              "  </thead>\n",
              "  <tbody>\n",
              "    <tr>\n",
              "      <th>0</th>\n",
              "      <td>0031K0000385UfTQAU</td>\n",
              "      <td>0011K00002THOH6QAP</td>\n",
              "      <td>2022-01-01 22:13:31+00</td>\n",
              "      <td>Donor Prospect</td>\n",
              "      <td>2021_Yem_YT</td>\n",
              "      <td>NaN</td>\n",
              "      <td>NaN</td>\n",
              "      <td>NaN</td>\n",
              "      <td>NaN</td>\n",
              "      <td>NaN</td>\n",
              "      <td>NaN</td>\n",
              "      <td>NaN</td>\n",
              "      <td>NaN</td>\n",
              "      <td>NaN</td>\n",
              "      <td>NaN</td>\n",
              "      <td>1</td>\n",
              "      <td>1</td>\n",
              "    </tr>\n",
              "    <tr>\n",
              "      <th>1</th>\n",
              "      <td>0031K0000385Ur0QAE</td>\n",
              "      <td>0011K00002THOSxQAP</td>\n",
              "      <td>2022-01-02 03:37:18+00</td>\n",
              "      <td>Donor Prospect</td>\n",
              "      <td>2021_Afg_YT</td>\n",
              "      <td>NaN</td>\n",
              "      <td>NaN</td>\n",
              "      <td>NaN</td>\n",
              "      <td>NaN</td>\n",
              "      <td>NaN</td>\n",
              "      <td>NaN</td>\n",
              "      <td>NaN</td>\n",
              "      <td>NaN</td>\n",
              "      <td>NaN</td>\n",
              "      <td>NaN</td>\n",
              "      <td>1</td>\n",
              "      <td>1</td>\n",
              "    </tr>\n",
              "    <tr>\n",
              "      <th>2</th>\n",
              "      <td>0031K0000385UvRQAU</td>\n",
              "      <td>0011K00002THOZ6QAP</td>\n",
              "      <td>2022-01-02 07:41:17+00</td>\n",
              "      <td>Donor Prospect</td>\n",
              "      <td>2021_Yem_YT</td>\n",
              "      <td>NaN</td>\n",
              "      <td>NaN</td>\n",
              "      <td>NaN</td>\n",
              "      <td>NaN</td>\n",
              "      <td>NaN</td>\n",
              "      <td>NaN</td>\n",
              "      <td>NaN</td>\n",
              "      <td>NaN</td>\n",
              "      <td>NaN</td>\n",
              "      <td>NaN</td>\n",
              "      <td>1</td>\n",
              "      <td>1</td>\n",
              "    </tr>\n",
              "    <tr>\n",
              "      <th>3</th>\n",
              "      <td>0031K0000385VY1QAM</td>\n",
              "      <td>0011K00002THPEKQA5</td>\n",
              "      <td>2022-01-02 17:13:39+00</td>\n",
              "      <td>Donor Prospect</td>\n",
              "      <td>2021_Afg_YT</td>\n",
              "      <td>NaN</td>\n",
              "      <td>NaN</td>\n",
              "      <td>NaN</td>\n",
              "      <td>NaN</td>\n",
              "      <td>NaN</td>\n",
              "      <td>NaN</td>\n",
              "      <td>NaN</td>\n",
              "      <td>NaN</td>\n",
              "      <td>NaN</td>\n",
              "      <td>NaN</td>\n",
              "      <td>1</td>\n",
              "      <td>1</td>\n",
              "    </tr>\n",
              "    <tr>\n",
              "      <th>4</th>\n",
              "      <td>0031K0000385WKhQAM</td>\n",
              "      <td>0011K00002THQ1zQAH</td>\n",
              "      <td>2022-01-03 02:48:07+00</td>\n",
              "      <td>Donor Prospect</td>\n",
              "      <td>2021_Afg_YT</td>\n",
              "      <td>NaN</td>\n",
              "      <td>NaN</td>\n",
              "      <td>NaN</td>\n",
              "      <td>NaN</td>\n",
              "      <td>NaN</td>\n",
              "      <td>NaN</td>\n",
              "      <td>NaN</td>\n",
              "      <td>NaN</td>\n",
              "      <td>NaN</td>\n",
              "      <td>NaN</td>\n",
              "      <td>1</td>\n",
              "      <td>1</td>\n",
              "    </tr>\n",
              "  </tbody>\n",
              "</table>\n",
              "</div>\n",
              "      <button class=\"colab-df-convert\" onclick=\"convertToInteractive('df-9f1e2b2f-9263-4dd5-89ca-1f9bde829cd4')\"\n",
              "              title=\"Convert this dataframe to an interactive table.\"\n",
              "              style=\"display:none;\">\n",
              "        \n",
              "  <svg xmlns=\"http://www.w3.org/2000/svg\" height=\"24px\"viewBox=\"0 0 24 24\"\n",
              "       width=\"24px\">\n",
              "    <path d=\"M0 0h24v24H0V0z\" fill=\"none\"/>\n",
              "    <path d=\"M18.56 5.44l.94 2.06.94-2.06 2.06-.94-2.06-.94-.94-2.06-.94 2.06-2.06.94zm-11 1L8.5 8.5l.94-2.06 2.06-.94-2.06-.94L8.5 2.5l-.94 2.06-2.06.94zm10 10l.94 2.06.94-2.06 2.06-.94-2.06-.94-.94-2.06-.94 2.06-2.06.94z\"/><path d=\"M17.41 7.96l-1.37-1.37c-.4-.4-.92-.59-1.43-.59-.52 0-1.04.2-1.43.59L10.3 9.45l-7.72 7.72c-.78.78-.78 2.05 0 2.83L4 21.41c.39.39.9.59 1.41.59.51 0 1.02-.2 1.41-.59l7.78-7.78 2.81-2.81c.8-.78.8-2.07 0-2.86zM5.41 20L4 18.59l7.72-7.72 1.47 1.35L5.41 20z\"/>\n",
              "  </svg>\n",
              "      </button>\n",
              "      \n",
              "  <style>\n",
              "    .colab-df-container {\n",
              "      display:flex;\n",
              "      flex-wrap:wrap;\n",
              "      gap: 12px;\n",
              "    }\n",
              "\n",
              "    .colab-df-convert {\n",
              "      background-color: #E8F0FE;\n",
              "      border: none;\n",
              "      border-radius: 50%;\n",
              "      cursor: pointer;\n",
              "      display: none;\n",
              "      fill: #1967D2;\n",
              "      height: 32px;\n",
              "      padding: 0 0 0 0;\n",
              "      width: 32px;\n",
              "    }\n",
              "\n",
              "    .colab-df-convert:hover {\n",
              "      background-color: #E2EBFA;\n",
              "      box-shadow: 0px 1px 2px rgba(60, 64, 67, 0.3), 0px 1px 3px 1px rgba(60, 64, 67, 0.15);\n",
              "      fill: #174EA6;\n",
              "    }\n",
              "\n",
              "    [theme=dark] .colab-df-convert {\n",
              "      background-color: #3B4455;\n",
              "      fill: #D2E3FC;\n",
              "    }\n",
              "\n",
              "    [theme=dark] .colab-df-convert:hover {\n",
              "      background-color: #434B5C;\n",
              "      box-shadow: 0px 1px 3px 1px rgba(0, 0, 0, 0.15);\n",
              "      filter: drop-shadow(0px 1px 2px rgba(0, 0, 0, 0.3));\n",
              "      fill: #FFFFFF;\n",
              "    }\n",
              "  </style>\n",
              "\n",
              "      <script>\n",
              "        const buttonEl =\n",
              "          document.querySelector('#df-9f1e2b2f-9263-4dd5-89ca-1f9bde829cd4 button.colab-df-convert');\n",
              "        buttonEl.style.display =\n",
              "          google.colab.kernel.accessAllowed ? 'block' : 'none';\n",
              "\n",
              "        async function convertToInteractive(key) {\n",
              "          const element = document.querySelector('#df-9f1e2b2f-9263-4dd5-89ca-1f9bde829cd4');\n",
              "          const dataTable =\n",
              "            await google.colab.kernel.invokeFunction('convertToInteractive',\n",
              "                                                     [key], {});\n",
              "          if (!dataTable) return;\n",
              "\n",
              "          const docLinkHtml = 'Like what you see? Visit the ' +\n",
              "            '<a target=\"_blank\" href=https://colab.research.google.com/notebooks/data_table.ipynb>data table notebook</a>'\n",
              "            + ' to learn more about interactive tables.';\n",
              "          element.innerHTML = '';\n",
              "          dataTable['output_type'] = 'display_data';\n",
              "          await google.colab.output.renderOutput(dataTable, element);\n",
              "          const docLink = document.createElement('div');\n",
              "          docLink.innerHTML = docLinkHtml;\n",
              "          element.appendChild(docLink);\n",
              "        }\n",
              "      </script>\n",
              "    </div>\n",
              "  </div>\n",
              "  "
            ]
          },
          "metadata": {},
          "execution_count": 10
        }
      ]
    },
    {
      "cell_type": "code",
      "source": [
        "df.columns"
      ],
      "metadata": {
        "colab": {
          "base_uri": "https://localhost:8080/"
        },
        "id": "39ZYF3nVJp9K",
        "outputId": "cba4794b-519b-4d85-e93c-df0c7ac82777"
      },
      "execution_count": null,
      "outputs": [
        {
          "output_type": "execute_result",
          "data": {
            "text/plain": [
              "Index(['id', 'accountid', 'createddate', 'membership_type__c',\n",
              "       'origin_source__c', 'first_gift_date__c', 'first_gift_amount__c',\n",
              "       'mrc_date__c', 'mrc_amount__c', 'current_calendar_year_total_amount__c',\n",
              "       'current_calendar_year_total_transactions__c',\n",
              "       'previous_calendar_year_total_amount__c',\n",
              "       'previous_calendar_year_total_transaction__c', 'total_amount__c',\n",
              "       'total_transactions__c', 'email', 'phone'],\n",
              "      dtype='object')"
            ]
          },
          "metadata": {},
          "execution_count": 17
        }
      ]
    },
    {
      "cell_type": "markdown",
      "source": [
        "id: contact Id, link to other table\n",
        "accountid: household\n",
        "createddate: when they enter the dataset\n",
        "membership_type__c\n",
        "origin_source__c: YT (youtube adds)\n",
        "mrc: most recent contribution"
      ],
      "metadata": {
        "id": "5jiZcNIdJ0hQ"
      }
    },
    {
      "cell_type": "code",
      "source": [
        "df['membership_type__c'].unique()"
      ],
      "metadata": {
        "colab": {
          "base_uri": "https://localhost:8080/"
        },
        "id": "jAXqZcU8K6Dz",
        "outputId": "55645547-a372-42a6-ee0e-f9e6851a1f27"
      },
      "execution_count": null,
      "outputs": [
        {
          "output_type": "execute_result",
          "data": {
            "text/plain": [
              "array(['Donor Prospect', 'Individual Donor', 'Major Donor', 'Mid-Level',\n",
              "       'Organization'], dtype=object)"
            ]
          },
          "metadata": {},
          "execution_count": 18
        }
      ]
    },
    {
      "cell_type": "code",
      "source": [
        "df['origin_source__c'].unique()"
      ],
      "metadata": {
        "colab": {
          "base_uri": "https://localhost:8080/"
        },
        "id": "rAu4V_N_K-_A",
        "outputId": "6b4c4fea-0a78-4d4a-a2fb-1f4b837b7b71"
      },
      "execution_count": null,
      "outputs": [
        {
          "output_type": "execute_result",
          "data": {
            "text/plain": [
              "array(['2021_Yem_YT', '2021_Afg_YT', '2021_ClimateChange_Web',\n",
              "       '2021_Resettlement_FB', '2022_Yemen_FB', '2022_Ukraine_CS',\n",
              "       '2022_SeekSafety_ADV_Email', '2021_Winter_FB',\n",
              "       '2022_DailyKos_AfgWinter', '2022_Ukraine_Adv_JG',\n",
              "       '2022_Mediterranean_DailyKos', '2022_DailyKos_WinterStorms',\n",
              "       '2022_SeekSafety_ADV_DailyKos', '2022_DailyKos_Ukraine',\n",
              "       '2022_Ukraine_Adv_DailyKos', '2021_HumanitarianDay',\n",
              "       '2022_RefugeesEverywhere_Adv_DailyKos', '2022_Ukraine_JG',\n",
              "       '2022_Winter_JG', '2022_Ukraine_Adv_MJ', '2022_Ukraine_Adv_Web',\n",
              "       '2022_Ukraine_FB', '2022_Ukraine_Adv_Email',\n",
              "       '2022_Ukraine_Adv_SMS', '2022_Ramadan_JG', '2022_Ukraine_Adv_FB',\n",
              "       '2022_DailyKos_Ramadan', '2022_ThankStaffer_Email',\n",
              "       '2022_Mediterranean_JG', '2022_RefugeesEverywhere_Adv_FB',\n",
              "       '2022_RefugeesEverywhere_Adv_JG', '2022_SeekSafety_ADV_JG',\n",
              "       '2022_SeekSafety_ADV_SMS', '2022_SeekSafety_ADV_Web',\n",
              "       '2022_AfgEarthquake_JG', '2022_UkrStory_ADV_JG', '2021_Yemen_DK'],\n",
              "      dtype=object)"
            ]
          },
          "metadata": {},
          "execution_count": 19
        }
      ]
    },
    {
      "cell_type": "code",
      "source": [
        "df.shape"
      ],
      "metadata": {
        "id": "IkWCpOhY1zK9",
        "colab": {
          "base_uri": "https://localhost:8080/"
        },
        "outputId": "19345772-4f9b-475d-f5b4-aacae30ba440"
      },
      "execution_count": null,
      "outputs": [
        {
          "output_type": "execute_result",
          "data": {
            "text/plain": [
              "(38741, 17)"
            ]
          },
          "metadata": {},
          "execution_count": 11
        }
      ]
    },
    {
      "cell_type": "code",
      "source": [
        "df.isnull().sum()"
      ],
      "metadata": {
        "id": "rmS2BXeX40kO",
        "colab": {
          "base_uri": "https://localhost:8080/"
        },
        "outputId": "6a760dfa-d7a7-480f-fce4-330801102f0b"
      },
      "execution_count": null,
      "outputs": [
        {
          "output_type": "execute_result",
          "data": {
            "text/plain": [
              "id                                                 0\n",
              "accountid                                          0\n",
              "createddate                                        0\n",
              "membership_type__c                                 0\n",
              "origin_source__c                                   0\n",
              "first_gift_date__c                             38479\n",
              "first_gift_amount__c                           38479\n",
              "mrc_date__c                                    38479\n",
              "mrc_amount__c                                  38479\n",
              "current_calendar_year_total_amount__c          38479\n",
              "current_calendar_year_total_transactions__c    38479\n",
              "previous_calendar_year_total_amount__c         38479\n",
              "previous_calendar_year_total_transaction__c    38479\n",
              "total_amount__c                                38474\n",
              "total_transactions__c                          38474\n",
              "email                                              0\n",
              "phone                                              0\n",
              "dtype: int64"
            ]
          },
          "metadata": {},
          "execution_count": 12
        }
      ]
    },
    {
      "cell_type": "markdown",
      "source": [
        "**Importing the Emails Dataset**"
      ],
      "metadata": {
        "id": "BEcY9XSc-E4X"
      }
    },
    {
      "cell_type": "code",
      "source": [
        "df_email = pd.read_csv('drive/MyDrive/unhcr/provided/data/USAforUNHCR_LeadGen_Emails.csv')"
      ],
      "metadata": {
        "id": "WBwhzJ695cO6"
      },
      "execution_count": null,
      "outputs": []
    },
    {
      "cell_type": "code",
      "source": [
        "df_email.head()"
      ],
      "metadata": {
        "colab": {
          "base_uri": "https://localhost:8080/",
          "height": 206
        },
        "id": "8jX1V5fH6VX1",
        "outputId": "83617359-396d-41d2-b1d9-504d275b487f"
      },
      "execution_count": null,
      "outputs": [
        {
          "output_type": "execute_result",
          "data": {
            "text/plain": [
              "            contactid  emailid                                 emailname  \\\n",
              "0  0031K0000385TbjQAE    37925  201906 - Lead Gen Welcome - Email 1 - DM   \n",
              "1  0031K0000385TiGQAU    37925  201906 - Lead Gen Welcome - Email 1 - DM   \n",
              "2  0031K0000385TP9QAM    37925  201906 - Lead Gen Welcome - Email 1 - DM   \n",
              "3  0031K0000385TQbQAM    37925  201906 - Lead Gen Welcome - Email 1 - DM   \n",
              "4  0031K0000385TqzQAE    37925  201906 - Lead Gen Welcome - Email 1 - DM   \n",
              "\n",
              "                        senddate opendate clickdate  \n",
              "0  2022-01-01 09:03:41.760000000      NaN       NaN  \n",
              "1  2022-01-01 09:03:41.760000000      NaN       NaN  \n",
              "2  2022-01-01 09:03:41.760000000      NaN       NaN  \n",
              "3  2022-01-01 09:03:41.760000000      NaN       NaN  \n",
              "4  2022-01-01 09:03:41.760000000      NaN       NaN  "
            ],
            "text/html": [
              "\n",
              "  <div id=\"df-25feee04-9e39-4727-aea0-c05c5be4b898\">\n",
              "    <div class=\"colab-df-container\">\n",
              "      <div>\n",
              "<style scoped>\n",
              "    .dataframe tbody tr th:only-of-type {\n",
              "        vertical-align: middle;\n",
              "    }\n",
              "\n",
              "    .dataframe tbody tr th {\n",
              "        vertical-align: top;\n",
              "    }\n",
              "\n",
              "    .dataframe thead th {\n",
              "        text-align: right;\n",
              "    }\n",
              "</style>\n",
              "<table border=\"1\" class=\"dataframe\">\n",
              "  <thead>\n",
              "    <tr style=\"text-align: right;\">\n",
              "      <th></th>\n",
              "      <th>contactid</th>\n",
              "      <th>emailid</th>\n",
              "      <th>emailname</th>\n",
              "      <th>senddate</th>\n",
              "      <th>opendate</th>\n",
              "      <th>clickdate</th>\n",
              "    </tr>\n",
              "  </thead>\n",
              "  <tbody>\n",
              "    <tr>\n",
              "      <th>0</th>\n",
              "      <td>0031K0000385TbjQAE</td>\n",
              "      <td>37925</td>\n",
              "      <td>201906 - Lead Gen Welcome - Email 1 - DM</td>\n",
              "      <td>2022-01-01 09:03:41.760000000</td>\n",
              "      <td>NaN</td>\n",
              "      <td>NaN</td>\n",
              "    </tr>\n",
              "    <tr>\n",
              "      <th>1</th>\n",
              "      <td>0031K0000385TiGQAU</td>\n",
              "      <td>37925</td>\n",
              "      <td>201906 - Lead Gen Welcome - Email 1 - DM</td>\n",
              "      <td>2022-01-01 09:03:41.760000000</td>\n",
              "      <td>NaN</td>\n",
              "      <td>NaN</td>\n",
              "    </tr>\n",
              "    <tr>\n",
              "      <th>2</th>\n",
              "      <td>0031K0000385TP9QAM</td>\n",
              "      <td>37925</td>\n",
              "      <td>201906 - Lead Gen Welcome - Email 1 - DM</td>\n",
              "      <td>2022-01-01 09:03:41.760000000</td>\n",
              "      <td>NaN</td>\n",
              "      <td>NaN</td>\n",
              "    </tr>\n",
              "    <tr>\n",
              "      <th>3</th>\n",
              "      <td>0031K0000385TQbQAM</td>\n",
              "      <td>37925</td>\n",
              "      <td>201906 - Lead Gen Welcome - Email 1 - DM</td>\n",
              "      <td>2022-01-01 09:03:41.760000000</td>\n",
              "      <td>NaN</td>\n",
              "      <td>NaN</td>\n",
              "    </tr>\n",
              "    <tr>\n",
              "      <th>4</th>\n",
              "      <td>0031K0000385TqzQAE</td>\n",
              "      <td>37925</td>\n",
              "      <td>201906 - Lead Gen Welcome - Email 1 - DM</td>\n",
              "      <td>2022-01-01 09:03:41.760000000</td>\n",
              "      <td>NaN</td>\n",
              "      <td>NaN</td>\n",
              "    </tr>\n",
              "  </tbody>\n",
              "</table>\n",
              "</div>\n",
              "      <button class=\"colab-df-convert\" onclick=\"convertToInteractive('df-25feee04-9e39-4727-aea0-c05c5be4b898')\"\n",
              "              title=\"Convert this dataframe to an interactive table.\"\n",
              "              style=\"display:none;\">\n",
              "        \n",
              "  <svg xmlns=\"http://www.w3.org/2000/svg\" height=\"24px\"viewBox=\"0 0 24 24\"\n",
              "       width=\"24px\">\n",
              "    <path d=\"M0 0h24v24H0V0z\" fill=\"none\"/>\n",
              "    <path d=\"M18.56 5.44l.94 2.06.94-2.06 2.06-.94-2.06-.94-.94-2.06-.94 2.06-2.06.94zm-11 1L8.5 8.5l.94-2.06 2.06-.94-2.06-.94L8.5 2.5l-.94 2.06-2.06.94zm10 10l.94 2.06.94-2.06 2.06-.94-2.06-.94-.94-2.06-.94 2.06-2.06.94z\"/><path d=\"M17.41 7.96l-1.37-1.37c-.4-.4-.92-.59-1.43-.59-.52 0-1.04.2-1.43.59L10.3 9.45l-7.72 7.72c-.78.78-.78 2.05 0 2.83L4 21.41c.39.39.9.59 1.41.59.51 0 1.02-.2 1.41-.59l7.78-7.78 2.81-2.81c.8-.78.8-2.07 0-2.86zM5.41 20L4 18.59l7.72-7.72 1.47 1.35L5.41 20z\"/>\n",
              "  </svg>\n",
              "      </button>\n",
              "      \n",
              "  <style>\n",
              "    .colab-df-container {\n",
              "      display:flex;\n",
              "      flex-wrap:wrap;\n",
              "      gap: 12px;\n",
              "    }\n",
              "\n",
              "    .colab-df-convert {\n",
              "      background-color: #E8F0FE;\n",
              "      border: none;\n",
              "      border-radius: 50%;\n",
              "      cursor: pointer;\n",
              "      display: none;\n",
              "      fill: #1967D2;\n",
              "      height: 32px;\n",
              "      padding: 0 0 0 0;\n",
              "      width: 32px;\n",
              "    }\n",
              "\n",
              "    .colab-df-convert:hover {\n",
              "      background-color: #E2EBFA;\n",
              "      box-shadow: 0px 1px 2px rgba(60, 64, 67, 0.3), 0px 1px 3px 1px rgba(60, 64, 67, 0.15);\n",
              "      fill: #174EA6;\n",
              "    }\n",
              "\n",
              "    [theme=dark] .colab-df-convert {\n",
              "      background-color: #3B4455;\n",
              "      fill: #D2E3FC;\n",
              "    }\n",
              "\n",
              "    [theme=dark] .colab-df-convert:hover {\n",
              "      background-color: #434B5C;\n",
              "      box-shadow: 0px 1px 3px 1px rgba(0, 0, 0, 0.15);\n",
              "      filter: drop-shadow(0px 1px 2px rgba(0, 0, 0, 0.3));\n",
              "      fill: #FFFFFF;\n",
              "    }\n",
              "  </style>\n",
              "\n",
              "      <script>\n",
              "        const buttonEl =\n",
              "          document.querySelector('#df-25feee04-9e39-4727-aea0-c05c5be4b898 button.colab-df-convert');\n",
              "        buttonEl.style.display =\n",
              "          google.colab.kernel.accessAllowed ? 'block' : 'none';\n",
              "\n",
              "        async function convertToInteractive(key) {\n",
              "          const element = document.querySelector('#df-25feee04-9e39-4727-aea0-c05c5be4b898');\n",
              "          const dataTable =\n",
              "            await google.colab.kernel.invokeFunction('convertToInteractive',\n",
              "                                                     [key], {});\n",
              "          if (!dataTable) return;\n",
              "\n",
              "          const docLinkHtml = 'Like what you see? Visit the ' +\n",
              "            '<a target=\"_blank\" href=https://colab.research.google.com/notebooks/data_table.ipynb>data table notebook</a>'\n",
              "            + ' to learn more about interactive tables.';\n",
              "          element.innerHTML = '';\n",
              "          dataTable['output_type'] = 'display_data';\n",
              "          await google.colab.output.renderOutput(dataTable, element);\n",
              "          const docLink = document.createElement('div');\n",
              "          docLink.innerHTML = docLinkHtml;\n",
              "          element.appendChild(docLink);\n",
              "        }\n",
              "      </script>\n",
              "    </div>\n",
              "  </div>\n",
              "  "
            ]
          },
          "metadata": {},
          "execution_count": 14
        }
      ]
    },
    {
      "cell_type": "code",
      "source": [
        "df_email.columns"
      ],
      "metadata": {
        "colab": {
          "base_uri": "https://localhost:8080/"
        },
        "id": "m-gK8b7fMA5T",
        "outputId": "06a7f1ec-7297-4b9a-c6ba-b1afa4d70e53"
      },
      "execution_count": null,
      "outputs": [
        {
          "output_type": "execute_result",
          "data": {
            "text/plain": [
              "Index(['contactid', 'emailid', 'emailname', 'senddate', 'opendate',\n",
              "       'clickdate'],\n",
              "      dtype='object')"
            ]
          },
          "metadata": {},
          "execution_count": 20
        }
      ]
    },
    {
      "cell_type": "code",
      "source": [
        "df_email['emailname'].unique()"
      ],
      "metadata": {
        "id": "wPKuJ14XMIvx",
        "outputId": "c7b8b7a6-814b-49fa-dc33-ca0d7402530f",
        "colab": {
          "base_uri": "https://localhost:8080/"
        }
      },
      "execution_count": null,
      "outputs": [
        {
          "output_type": "execute_result",
          "data": {
            "text/plain": [
              "array(['201906 - Lead Gen Welcome - Email 1 - DM',\n",
              "       '20220105 - EOY Thank You Engagement - full file - no ask',\n",
              "       '201906 - Lead Gen Welcome - Email 2 - DM - Afghanistan',\n",
              "       '201906 - Lead Gen Welcome - Email 2 - DM - Yemen',\n",
              "       '201906 - Lead Gen Welcome - Email 3 - DM',\n",
              "       '201906 - Lead Gen Welcome - Email 4 - DM - standard',\n",
              "       '201906 - Lead Gen Welcome - Email 4 - DM - donor',\n",
              "       '20220112 - Afghanistan Safa Engagement - new or engaged subscribers - monthly',\n",
              "       '201906 - Lead Gen Welcome - Email 5 - DM - standard',\n",
              "       '20220119 - Afghanistan Conversion Nazia Appeal - new or engaged subscribers - monthly',\n",
              "       '20220125 - Afghanistan Conversion Fauzia Appeal - new or engaged subscribers - monthly',\n",
              "       '20220128 - Lebanon Winter Storm Emergency Appeal - full file - one time',\n",
              "       '20220131 - Afghanistan Myths Facts Engagement - new or engaged subscribers - monthly',\n",
              "       '201905_NTF One Time Donor Welcome Journey_Email 3_DM',\n",
              "       '20220209 - Membership Conversion Appeal - new or engaged subscribers - monthly',\n",
              "       '20220215 - Winter Digital Newsletter Engagement - full file - monthly',\n",
              "       '20220215 - Winter Digital Newsletter Engagement - active sustainers - no ask',\n",
              "       '20220217 - Laura Blog Engagement - active sustainers - no ask',\n",
              "       '20220217 - Laura Blog Engagement - new or engaged subscribers - monthly',\n",
              "       '201905_NTF One Time Donor Welcome Journey_Email 5_DM_GiftCatalog',\n",
              "       '201905_NTF One Time Donor Welcome Journey_Email 1_DM',\n",
              "       '20220223 - Famine 101 Quiz Engagement - active 1x - monthly',\n",
              "       '20220223 - Famine 101 Quiz Engagement - new or engaged subscribers - monthly',\n",
              "       '201905_NTF One Time Donor Welcome Journey_Email 2_DM',\n",
              "       '20220224 - Ukraine Emergency Appeal - active sustainers - one time',\n",
              "       '20220224 - Ukraine Emergency Appeal - full file - one time',\n",
              "       '20220225 - Ukraine Emergency RESEND Appeal - full file - one time',\n",
              "       '20220227 - Blake Lively Ryan Reynolds Ukraine Appeal - full file - one time',\n",
              "       '20220228 - Blake Lively Ryan Reynolds Ukraine RESEND Appeal - full file - one time',\n",
              "       '20220302 - Ukraine Update Engagement - active sustainers - no ask',\n",
              "       '20220302 - Ukraine Update Engagement - full file - one time',\n",
              "       '20220308 - IWD Ukraine Engagement - active 1x - monthly',\n",
              "       '20220308 - IWD Ukraine Engagement - active sustainers - no ask',\n",
              "       '20220308 - IWD Ukraine Engagement - new or engaged subscribers - monthly',\n",
              "       '20220310 - Storytellers Contest Engagement - full file - monthly',\n",
              "       '201905_NTF One Time Donor Welcome Journey_Email 4_DM',\n",
              "       '20220315 - Ukraine Facts Engagement - new or engaged subscribers - monthly',\n",
              "       '20220315 - Ukraine Facts Engagement - active 1x - monthly',\n",
              "       '201906 - Lead Gen Welcome - Email 2 - DM - Ukraine',\n",
              "       '201905_NTF One Time Donor Welcome Journey_Email 3a_DM',\n",
              "       '201905_NTF One Time Donor Welcome Journey_Email 5_DM_Standard',\n",
              "       '20220324 - Ukraine 1 Month Engagement - midlevel - one time',\n",
              "       '20220324 - Ukraine 1 Month Appeal - donors - monthly',\n",
              "       '20220324 - Ukraine 1 Month Engagement - full file - one time',\n",
              "       '20220329 - Ukraine Valentina Engagement - midlevel - one time',\n",
              "       '20220329 - Ukraine Valentina Engagement - new or engaged subscribers - one time',\n",
              "       '20220329 - Ukraine Valentina Engagement - active 1x - one time',\n",
              "       '20220329 - Ukraine Valentina Engagement - donors - no ask',\n",
              "       '20220329 - Ukraine Valentina Engagement - active sustainers - one time',\n",
              "       '20220331 - Ukraine Petition Engagement - midlevel - one time',\n",
              "       '20220331 - Ukraine Petition Engagement - donors - no ask',\n",
              "       '20220331 - Ukraine Petition Engagement - full file - one time',\n",
              "       '20220331 - Ukraine Petition Engagement - active sustainers - one time',\n",
              "       '201905_NTF One Time Donor Welcome Journey_Email 6_DM',\n",
              "       '20220406 - Ramadan 101 Engagement - midlevel - one time',\n",
              "       '20220406 - Ramadan 101 Engagement - active sustainers - no ask',\n",
              "       '20220406 - Ramadan 101 Engagement - full file - monthly',\n",
              "       '20220408 - Ramadan Appeal - full file - monthly',\n",
              "       '20220413 - Thank a Field Staffer Engagement - active sustainers - no ask',\n",
              "       '20220413 - Thank a Field Staffer Engagement - full file - monthly',\n",
              "       '201905_NTF One Time Donor Welcome Journey_Email 7_DM',\n",
              "       '201906 - Lead Gen Welcome - Email 2 - DM - Mediterranean',\n",
              "       '20220613 - Photo Frame Engagement - donors - no ask',\n",
              "       'DMS Receipt',\n",
              "       '20220614 - Asylum Explainer Engagement - full file',\n",
              "       '20220614 - Asylum Explainer Engagement - active sustainers - no ask',\n",
              "       '20220616 - WRD Petition Engagement - midlevel - one time - button a',\n",
              "       '20220616 - WRD Petition Engagement - full file - button a',\n",
              "       '20220616 - WRD Petition Engagement - full file - button b',\n",
              "       '20220616 - WRD Petition Engagement - active sustainers - button b',\n",
              "       '20220616 - WRD Petition Engagement - active sustainers - button a',\n",
              "       '201903_Between Lives Welcome Journey_Email 1_DM',\n",
              "       '201903_Between Lives Welcome Journey_Email 4_DM_Short',\n",
              "       '20220620 - WRD Appeal - midlevel - one time',\n",
              "       '20220620 - WRD Appeal - full file - monthly',\n",
              "       '20220620 - WRD Appeal - active sustainers - one time',\n",
              "       '201903_Between Lives Welcome Journey_Email 3_DM_Short',\n",
              "       '20220622 - Afghanistan Earthquake Emergency Appeal - full file - monthly',\n",
              "       '20220622 - Afghanistan Earthquake Emergency Appeal - active sustainers - one time',\n",
              "       '20220623 - Afghanistan Earthquake RESEND Appeal - full file - monthly',\n",
              "       '201903_Between Lives Welcome Journey_Email 6_DM_Short',\n",
              "       '201903_Between Lives Welcome Journey_Email 5_DM_Short',\n",
              "       '20220629 - WRD Haya and Ghena Story Engagement - full file - monthly',\n",
              "       '20220629 - WRD Haya and Ghena Story Engagement - active sustainers - one time',\n",
              "       '20220707 - Global Trends Engagement - full file - monthly',\n",
              "       '20220707 - Global Trends Engagement - active sustainers - no ask',\n",
              "       '201903_Between Lives Welcome Journey_Email 7_DM_Short',\n",
              "       '20220714 - MN Ally Engagement - full file - monthly',\n",
              "       '20220714 - MN Ally Engagement - midlevel - one time',\n",
              "       '20220714 - MN Ally Engagement - active sustainers - no ask',\n",
              "       '201903_Between Lives Welcome Journey_Email 2_DM_Short',\n",
              "       '20220721 - Afghanistan Impact Appeal - full file - monthly',\n",
              "       '20220721 - Afghanistan Impact Appeal - afg donors - monthly',\n",
              "       '20220721 - Afghanistan Impact Appeal - ukr donors - one time',\n",
              "       '20220721 - Afghanistan Impact Appeal - ukr donors - monthly',\n",
              "       '20220721 - Afghanistan Impact Appeal - active sustainers - one time',\n",
              "       '201903_Between Lives Welcome Journey_Email 10_DM_Short',\n",
              "       '20220726 - Dewey Award Nomination Engagement - midlevel - no ask',\n",
              "       '20220726 - Dewey Award Nomination Engagement - active sustainers - no ask',\n",
              "       '20220217 - Laura Blog Engagement - active 1x - monthly',\n",
              "       '20220227 - Blake Lively Ryan Reynolds Ukraine Appeal - active sustainers - one time',\n",
              "       '20220310 - Storytellers Contest Engagement - active sustainers - no ask',\n",
              "       '20220315 - Ukraine Facts Engagement - active sustainers - no ask',\n",
              "       '20220324 - Ukraine 1 Month Engagement - active sustainers - one time',\n",
              "       '20220614 - Asylum Explainer Engagement - midlevel - one time',\n",
              "       '20220616 - WRD Petition Engagement - midlevel - one time - button b',\n",
              "       '20220622 - Afghanistan Earthquake Emergency Appeal - midlevel - one time',\n",
              "       '20220623 - Afghanistan Earthquake RESEND Appeal - midlevel - one time',\n",
              "       '20220629 - WRD Haya and Ghena Story Engagement - midlevel - one time',\n",
              "       '20220707 - Global Trends Engagement - midlevel - one time',\n",
              "       '201903_Between Lives Welcome Journey_Email 9_DM_Short',\n",
              "       '201903_Between Lives Welcome Journey_Email 8_DM_Short',\n",
              "       '20220721 - Afghanistan Impact Appeal - midlevel - one time',\n",
              "       '20220223 - Famine 101 Quiz Engagement - active sustainers - no ask',\n",
              "       '201906 - Lead Gen Welcome - Email 2 - DM - Syria',\n",
              "       '20220413 - Thank a Field Staffer Engagement - midlevel - one time'],\n",
              "      dtype=object)"
            ]
          },
          "metadata": {},
          "execution_count": 21
        }
      ]
    },
    {
      "cell_type": "code",
      "source": [
        "df_email.shape"
      ],
      "metadata": {
        "colab": {
          "base_uri": "https://localhost:8080/"
        },
        "id": "oUODeaSQ6X6R",
        "outputId": "5feaa946-2881-4970-da6e-df9e7da21804"
      },
      "execution_count": null,
      "outputs": [
        {
          "output_type": "execute_result",
          "data": {
            "text/plain": [
              "(398061, 6)"
            ]
          },
          "metadata": {},
          "execution_count": 15
        }
      ]
    },
    {
      "cell_type": "code",
      "source": [
        "df_email.isnull().sum()"
      ],
      "metadata": {
        "id": "-eOofbyI6bWM",
        "outputId": "1c866375-82e4-43e1-89ea-200edae6118c",
        "colab": {
          "base_uri": "https://localhost:8080/"
        }
      },
      "execution_count": null,
      "outputs": [
        {
          "output_type": "execute_result",
          "data": {
            "text/plain": [
              "contactid         0\n",
              "emailid           0\n",
              "emailname         0\n",
              "senddate          0\n",
              "opendate     308887\n",
              "clickdate    392130\n",
              "dtype: int64"
            ]
          },
          "metadata": {},
          "execution_count": 16
        }
      ]
    },
    {
      "cell_type": "code",
      "source": [],
      "metadata": {
        "id": "VmSZeA9JBrN-"
      },
      "execution_count": null,
      "outputs": []
    }
  ]
}